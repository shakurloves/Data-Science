{
 "cells": [
  {
   "cell_type": "markdown",
   "id": "30616910",
   "metadata": {},
   "source": [
    "# My Jupyter Notebook on IBM Watson Studio\n"
   ]
  },
  {
   "cell_type": "markdown",
   "id": "fe5b4abf",
   "metadata": {},
   "source": [
    "**Abdi Shakur Omar** \n",
    "\n",
    "I would like to learn how to code and analyse data, whatever I will do with it, I'll see later."
   ]
  },
  {
   "cell_type": "markdown",
   "id": "6c0a3343",
   "metadata": {},
   "source": [
    "*I am inerested in data science because I want to find a new carreer where I can work remotely from anywhere. And becoming a data scientist or knowing how to code, would help me realise that.* "
   ]
  },
  {
   "cell_type": "markdown",
   "id": "31be4648",
   "metadata": {},
   "source": [
    "## assign a variables and add 2 to it. "
   ]
  },
  {
   "cell_type": "code",
   "execution_count": 3,
   "id": "9f0acf14",
   "metadata": {
    "scrolled": true
   },
   "outputs": [
    {
     "name": "stdout",
     "output_type": "stream",
     "text": [
      "10\n"
     ]
    }
   ],
   "source": [
    "x = 3 \n",
    "n = 5\n",
    "print(x+n + 2)"
   ]
  },
  {
   "cell_type": "markdown",
   "id": "105bc351",
   "metadata": {},
   "source": [
    "I need at least 3 of the following items in this cel\n",
    "* Bulleted List\n",
    "* Images\n",
    "* Tables\n",
    "* Strikethrough\n",
    "* blocked quotes\n",
    "* Hyperlinks\n",
    "\n",
    "-----------------------------------------\n",
    "[This is a link to go to Google's homepage] (https://www.google.com)\n",
    "\n",
    "-----------------------------------------\n",
    "\n",
    "Here's a tabe of the lists above:\n",
    "\n",
    "|   Table Title    |\n",
    "|------------------|\n",
    "| Bulleted List    |\n",
    "| Images           |\n",
    "| Strikethroug     |\n",
    "| Blocked quotes   |\n",
    "| Hyperlinks       |\n",
    "\n",
    "\n",
    "\n",
    "\n",
    "\n"
   ]
  },
  {
   "cell_type": "code",
   "execution_count": null,
   "id": "03e4a5f5",
   "metadata": {},
   "outputs": [],
   "source": []
  }
 ],
 "metadata": {
  "kernelspec": {
   "display_name": "Python 3 (ipykernel)",
   "language": "python",
   "name": "python3"
  },
  "language_info": {
   "codemirror_mode": {
    "name": "ipython",
    "version": 3
   },
   "file_extension": ".py",
   "mimetype": "text/x-python",
   "name": "python",
   "nbconvert_exporter": "python",
   "pygments_lexer": "ipython3",
   "version": "3.9.13"
  }
 },
 "nbformat": 4,
 "nbformat_minor": 5
}
